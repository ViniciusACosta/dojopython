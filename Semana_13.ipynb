{
  "nbformat": 4,
  "nbformat_minor": 0,
  "metadata": {
    "colab": {
      "name": "Semana_13.ipynb",
      "provenance": [],
      "collapsed_sections": [],
      "include_colab_link": true
    },
    "kernelspec": {
      "name": "python3",
      "display_name": "Python 3"
    },
    "language_info": {
      "name": "python"
    }
  },
  "cells": [
    {
      "cell_type": "markdown",
      "metadata": {
        "id": "view-in-github",
        "colab_type": "text"
      },
      "source": [
        "<a href=\"https://colab.research.google.com/github/ViniciusACosta/dojopython/blob/main/Semana_13.ipynb\" target=\"_parent\"><img src=\"https://colab.research.google.com/assets/colab-badge.svg\" alt=\"Open In Colab\"/></a>"
      ]
    },
    {
      "cell_type": "markdown",
      "source": [
        "### DojoPuzzles.com\n"
      ],
      "metadata": {
        "id": "6fJB4oqHLL0P"
      }
    },
    {
      "cell_type": "markdown",
      "source": [
        "1) Neste problema, você deverá exibir uma lista de 1 a 100, um em cada linha, com as seguintes exceções:\n",
        "\n",
        "Números divisíveis por 3 deve aparecer como 'Fizz' ao invés do número;\n",
        "\n",
        "Números divisíveis por 5 devem aparecer como 'Buzz' ao invés do número;\n",
        "\n",
        "Números divisíveis por 3 e 5 devem aparecer como 'FizzBuzz' ao invés do número'."
      ],
      "metadata": {
        "id": "bC92Elc8LPWc"
      }
    },
    {
      "cell_type": "code",
      "source": [
        "for i in range(1,101):\n",
        "  if i % 3 == 0 and i % 5 == 0:\n",
        "    print('FizzBuzz')\n",
        "  elif i % 3 == 0:\n",
        "    print('Fizz')\n",
        "  elif i % 5 == 0:\n",
        "    print('Buzz')\n",
        "  else:\n",
        "    print(i)"
      ],
      "metadata": {
        "id": "nBJBehgNXwRF",
        "colab": {
          "base_uri": "https://localhost:8080/"
        },
        "outputId": "ecf8503a-dbdd-4e49-a83a-6c2c9ad81dbb"
      },
      "execution_count": null,
      "outputs": [
        {
          "output_type": "stream",
          "name": "stdout",
          "text": [
            "1\n",
            "2\n",
            "Fizz\n",
            "4\n",
            "Buzz\n",
            "Fizz\n",
            "7\n",
            "8\n",
            "Fizz\n",
            "Buzz\n",
            "11\n",
            "Fizz\n",
            "13\n",
            "14\n",
            "FizzBuzz\n",
            "16\n",
            "17\n",
            "Fizz\n",
            "19\n",
            "Buzz\n",
            "Fizz\n",
            "22\n",
            "23\n",
            "Fizz\n",
            "Buzz\n",
            "26\n",
            "Fizz\n",
            "28\n",
            "29\n",
            "FizzBuzz\n",
            "31\n",
            "32\n",
            "Fizz\n",
            "34\n",
            "Buzz\n",
            "Fizz\n",
            "37\n",
            "38\n",
            "Fizz\n",
            "Buzz\n",
            "41\n",
            "Fizz\n",
            "43\n",
            "44\n",
            "FizzBuzz\n",
            "46\n",
            "47\n",
            "Fizz\n",
            "49\n",
            "Buzz\n",
            "Fizz\n",
            "52\n",
            "53\n",
            "Fizz\n",
            "Buzz\n",
            "56\n",
            "Fizz\n",
            "58\n",
            "59\n",
            "FizzBuzz\n",
            "61\n",
            "62\n",
            "Fizz\n",
            "64\n",
            "Buzz\n",
            "Fizz\n",
            "67\n",
            "68\n",
            "Fizz\n",
            "Buzz\n",
            "71\n",
            "Fizz\n",
            "73\n",
            "74\n",
            "FizzBuzz\n",
            "76\n",
            "77\n",
            "Fizz\n",
            "79\n",
            "Buzz\n",
            "Fizz\n",
            "82\n",
            "83\n",
            "Fizz\n",
            "Buzz\n",
            "86\n",
            "Fizz\n",
            "88\n",
            "89\n",
            "FizzBuzz\n",
            "91\n",
            "92\n",
            "Fizz\n",
            "94\n",
            "Buzz\n",
            "Fizz\n",
            "97\n",
            "98\n",
            "Fizz\n",
            "Buzz\n"
          ]
        }
      ]
    },
    {
      "cell_type": "markdown",
      "source": [
        "### donuts\n",
        "\n",
        "Dado um contador inteiro do numero de donuts, retorne uma string com o formato 'Number of donuts: <count>' onde <count> é o numero recebido. \n",
        "\n",
        "Entretanto, se o contador for 10 ou mais, use a palavra 'many' ao invés do contador.\n",
        "\n",
        "    Exemplo: \n",
        "    donuts(5) retorna 'Number of donuts: 5'\n",
        "    donuts(23) retorna 'Number of donuts: many'\n"
      ],
      "metadata": {
        "id": "5CTpa7YKLTU0"
      }
    },
    {
      "cell_type": "code",
      "source": [
        "def donuts(num):\n",
        "  if type(num) == int:\n",
        "    if num >= 10:\n",
        "      num = 'many'\n",
        "    print (f'Number of donuts: {num}')\n",
        "  else:\n",
        "    print('NUMERO NÃO É INTEIRO')\n",
        "\n",
        "donuts(50)"
      ],
      "metadata": {
        "id": "OAcfN18OXx-V",
        "colab": {
          "base_uri": "https://localhost:8080/"
        },
        "outputId": "de119b96-459e-4ce8-c894-32f8a4b0b96c"
      },
      "execution_count": null,
      "outputs": [
        {
          "output_type": "stream",
          "name": "stdout",
          "text": [
            "Number of donuts: many\n"
          ]
        }
      ]
    },
    {
      "cell_type": "markdown",
      "source": [
        "### both_ends\n",
        "\n",
        "Dada uma string s, retorne uma string feita com os dois primeiros e os dois ultimos caracteres da string original.\n",
        "\n",
        "    Exemplo: \n",
        "    'spring' retorna 'spng'. Entretanto, se o tamanho da string for menor que 2, retorne uma string vazia."
      ],
      "metadata": {
        "id": "gLrdTU6aOyvT"
      }
    },
    {
      "cell_type": "code",
      "source": [
        "def both_ends(word):\n",
        "  if len(word) > 2:\n",
        "    return word[:2]+word[-2:]\n",
        "  else:\n",
        "    return ''\n",
        "\n",
        "print(both_ends('melancia'))\n",
        "print(both_ends('pé'))\n",
        "print(both_ends('céu'))"
      ],
      "metadata": {
        "id": "JoAlEUvQXzG2",
        "colab": {
          "base_uri": "https://localhost:8080/"
        },
        "outputId": "a921ed88-68ca-48a8-a717-b21af362523a"
      },
      "execution_count": null,
      "outputs": [
        {
          "output_type": "stream",
          "name": "stdout",
          "text": [
            "meia\n",
            "\n",
            "cééu\n"
          ]
        }
      ]
    },
    {
      "cell_type": "markdown",
      "source": [
        "### not_bad\n",
        "\n",
        "Dada uma string, encontre a primeira aparição das substrings 'not bad', substitua por 'good' e retorne a string resultante.\n",
        "\n",
        "    Exemplo: \n",
        "    'The dinner is not bad!' retorna 'The dinner is good!'"
      ],
      "metadata": {
        "id": "8aMOqUDBQaju"
      }
    },
    {
      "cell_type": "code",
      "source": [
        "def not_bad(frase): \n",
        "  return frase.replace('not bad', 'good')"
      ],
      "metadata": {
        "id": "pOHDv7u0wYF8"
      },
      "execution_count": null,
      "outputs": []
    },
    {
      "cell_type": "code",
      "source": [
        "frase = 'The dinner is not bad!'\n",
        "\n",
        "lista = frase.split()\n",
        "entrou = False\n",
        "for i, k in enumerate(lista):\n",
        "  if lista[i] == 'not' and lista[i+1] == 'bad!':\n",
        "    if not entrou:\n",
        "      lista[i] = ''\n",
        "      lista[i+1] = 'good'\n",
        "      entrou = True\n",
        "\n",
        "nova_frase = ''\n",
        "\n",
        "for i in lista:\n",
        "  nova_frase += i.replace(' ', '') + ' '\n",
        "\n",
        "print(nova_frase.replace(' ',' '))"
      ],
      "metadata": {
        "id": "FlNkNCo4X1K6",
        "colab": {
          "base_uri": "https://localhost:8080/"
        },
        "outputId": "acf0bc51-1271-4aab-84b3-6530c45a1661"
      },
      "execution_count": null,
      "outputs": [
        {
          "output_type": "stream",
          "name": "stdout",
          "text": [
            "The dinner is  good \n"
          ]
        }
      ]
    },
    {
      "cell_type": "markdown",
      "source": [
        "### mix_up\n",
        "\n",
        "\n",
        "Dadas as strings a e b, retorne uma string com a e b separados por um espaço 'a b', além disso, troque os 2 primeiros caracteres das duas strings.\n",
        "\n",
        "    Exemplo:\n",
        "\n",
        "    'mix', 'pod' -> 'pox mid'\n",
        "    'dog, 'dinner' -> 'dig donner'\n",
        "\n",
        "Assuma que a e b tem tamanho 2 ou maior.\n"
      ],
      "metadata": {
        "id": "u4kSgXf_PN5n"
      }
    },
    {
      "cell_type": "code",
      "source": [
        "a = 'mix'\n",
        "b = 'pod'\n",
        "\n",
        "c = a.replace(a[:2], b[:2]) + ' ' + b.replace(b[:2], a[:2])\n",
        "\n",
        "print(c)"
      ],
      "metadata": {
        "id": "3sI8uPJcX2wT",
        "colab": {
          "base_uri": "https://localhost:8080/"
        },
        "outputId": "686f86c8-201b-4bd3-f0c7-e924c8451f0e"
      },
      "execution_count": null,
      "outputs": [
        {
          "output_type": "stream",
          "name": "stdout",
          "text": [
            "pox mid\n"
          ]
        }
      ]
    },
    {
      "cell_type": "markdown",
      "source": [
        "### WordCount\n",
        "\n",
        "Faça um dicionário que armazene a contagem de palavras em uma lista"
      ],
      "metadata": {
        "id": "f5omVC04SV7y"
      }
    },
    {
      "cell_type": "code",
      "source": [
        "lista = ['Banana', 'Abobora', 'Abobora', 'Abacaxi']\n",
        "dic = {}\n",
        "\n",
        "for x in lista:\n",
        "  if not x in dic:\n",
        "    dic[x] = lista.count(x)\n",
        "\n",
        "dic"
      ],
      "metadata": {
        "id": "yvufN8ymX521",
        "colab": {
          "base_uri": "https://localhost:8080/"
        },
        "outputId": "d12ad68c-735a-447f-f489-5b6a12a023b3"
      },
      "execution_count": null,
      "outputs": [
        {
          "output_type": "execute_result",
          "data": {
            "text/plain": [
              "{'Abacaxi': 1, 'Abobora': 2, 'Banana': 1}"
            ]
          },
          "metadata": {},
          "execution_count": 34
        }
      ]
    },
    {
      "cell_type": "markdown",
      "source": [
        "### Dicts"
      ],
      "metadata": {
        "id": "6b46dTOZSY-U"
      }
    },
    {
      "cell_type": "markdown",
      "source": [
        "Encontre palavras chaves em um dicionário e apresente o valor de cada palavra. Em seguida, utilizando um frase, faça o somatório de todos os valores das palavras chaves e apresente o resultado"
      ],
      "metadata": {
        "id": "VNnhKMpiVMNQ"
      }
    },
    {
      "cell_type": "code",
      "source": [
        "dic_keywords = {\n",
        "    'amor' : 1,\n",
        "    'feliz' : 1,\n",
        "    'banana' : 0,\n",
        "    'raiva': -1\n",
        "}"
      ],
      "metadata": {
        "id": "FYEFO6OLWz4v"
      },
      "execution_count": null,
      "outputs": []
    },
    {
      "cell_type": "code",
      "source": [
        "def analisa_sentimento(frase):\n",
        "  soma = 0\n",
        "  for palavra in frase.split():\n",
        "    soma += dic_keywords.get(palavra, 0)\n",
        "\n",
        "  if soma > 0:\n",
        "    print('Positivo')\n",
        "  elif soma == 0:\n",
        "    print('Neutro')\n",
        "  else:\n",
        "    print('Negativo')"
      ],
      "metadata": {
        "id": "ROgRqlK71YhH"
      },
      "execution_count": null,
      "outputs": []
    },
    {
      "cell_type": "code",
      "source": [
        "analisa_sentimento('O Vasco, ganhou! Estou feliz')\n",
        "analisa_sentimento('O Vasco, ganhou! Estou triste')"
      ],
      "metadata": {
        "colab": {
          "base_uri": "https://localhost:8080/"
        },
        "id": "l_dj2FNp3YFq",
        "outputId": "39418dd1-c3f7-4521-d288-5a561326bd09"
      },
      "execution_count": null,
      "outputs": [
        {
          "output_type": "stream",
          "name": "stdout",
          "text": [
            "Positivo\n",
            "Neutro\n"
          ]
        }
      ]
    }
  ]
}